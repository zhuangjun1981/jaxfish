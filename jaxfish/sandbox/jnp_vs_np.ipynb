{
 "cells": [
  {
   "cell_type": "code",
   "execution_count": 1,
   "metadata": {},
   "outputs": [],
   "source": [
    "import numpy as np\n",
    "import jax.numpy as jnp"
   ]
  },
  {
   "cell_type": "code",
   "execution_count": 2,
   "metadata": {},
   "outputs": [],
   "source": [
    "aa = np.zeros(10000)\n",
    "dd = np.arange(8)\n",
    "\n",
    "for i in range(5, 9990):\n",
    "    aa[i-3 : i+5] += dd"
   ]
  },
  {
   "cell_type": "code",
   "execution_count": 3,
   "metadata": {},
   "outputs": [],
   "source": [
    "bb = jnp.zeros(10000)\n",
    "cc = jnp.arange(8)\n",
    "\n",
    "for i in range(5, 9990):\n",
    "    bb.at[i-3 : i+5].add(cc)"
   ]
  }
 ],
 "metadata": {
  "kernelspec": {
   "display_name": "jaxfish",
   "language": "python",
   "name": "python3"
  },
  "language_info": {
   "codemirror_mode": {
    "name": "ipython",
    "version": 3
   },
   "file_extension": ".py",
   "mimetype": "text/x-python",
   "name": "python",
   "nbconvert_exporter": "python",
   "pygments_lexer": "ipython3",
   "version": "3.13.1"
  }
 },
 "nbformat": 4,
 "nbformat_minor": 2
}
