{
 "cells": [
  {
   "cell_type": "code",
   "execution_count": 1,
   "metadata": {},
   "outputs": [],
   "source": [
    "import numpy as np\n",
    "\n",
    "class Fish:\n",
    "    def __init__(self, data:float=5.):\n",
    "        self.data = data\n",
    "    \n",
    "    def act(self, t:int, history:np.ndarray):\n",
    "        if np.random.rand() > 0.5:\n",
    "            history[t] += self.data\n",
    "\n",
    "class Simulation:\n",
    "    def __init__(self, length=10000):\n",
    "        self.length = length\n",
    "\n",
    "    def run(self, fish):\n",
    "\n",
    "        history = np.zeros((self.length, ))\n",
    "        for t in range(self.length):\n",
    "            fish.act(t, history)\n",
    "        \n",
    "        return history\n",
    "\n",
    "\n",
    "simulation = Simulation()\n",
    "\n",
    "for fish_i in range(1000):\n",
    "    fish = Fish(data=np.random.rand())\n",
    "    _ = simulation.run(fish)\n",
    "\n"
   ]
  },
  {
   "cell_type": "code",
   "execution_count": 2,
   "metadata": {},
   "outputs": [],
   "source": [
    "import jax\n",
    "import jax.numpy as jnp\n",
    "from jax import random, vmap, lax\n",
    "\n",
    "# Define the Fish behavior\n",
    "@jax.jit\n",
    "def fish_act(static_dict, t, rng, history):\n",
    "    rand_value = random.uniform(rng)\n",
    "    history = lax.cond(\n",
    "        rand_value > 0.5,\n",
    "        lambda h: h.at[t].add(static_dict[\"data\"]),\n",
    "        lambda h: h,\n",
    "        history\n",
    "    )\n",
    "    return history\n",
    "\n",
    "\n",
    "# one simulation for one single fish\n",
    "def one_fish_one_simulation(static_dict, sim_key):\n",
    "\n",
    "    length = static_dict[\"length\"]\n",
    "    data = static_dict[\"data\"]\n",
    "\n",
    "    rng = random.split(sim_key, length)\n",
    "    history = jnp.zeros(length)\n",
    "\n",
    "    def simulate_step(carry, t):\n",
    "        history, rng = carry\n",
    "        history = fish_act(static_dict, t, rng[t], history)\n",
    "        return (history, rng), None\n",
    "    \n",
    "    (history, _), _ = lax.scan(simulate_step, (history, rng), jnp.arange(length))\n",
    "    \n",
    "    return history\n",
    "\n",
    "\n",
    "# all simulation for one single fish\n",
    "def one_fish_all_simulation(data, length, sim_keys):\n",
    "    fn = vmap(one_fish_one_simulation, in_axes=(None, 0))\n",
    "    histories = fn(\n",
    "        {\"data\":data, \"length\":length}, \n",
    "        sim_keys\n",
    "    )\n",
    "    return histories\n",
    "\n",
    "\n",
    "# Vectorized simulation for multiple fish\n",
    "def run_simulations(length, fish_keys, sim_keys):\n",
    "    data_array = vmap(random.uniform)(fish_keys)\n",
    "    simulate_fn = vmap(one_fish_all_simulation, in_axes=(0, None, 0))\n",
    "    histories = simulate_fn(data_array, length, sim_keys)\n",
    "    return histories\n",
    "\n",
    "\n",
    "# Parameters\n",
    "num_fish = 1000\n",
    "simulation_per_fish = 10\n",
    "length = 10000\n",
    "\n",
    "# Random keys for reproducibility\n",
    "main_key = random.PRNGKey(42)\n",
    "fish_key, simulation_key = random.split(main_key, 2)\n",
    "fish_keys = random.split(fish_key, (num_fish,))\n",
    "sim_keys = random.split(simulation_key, (num_fish, simulation_per_fish))\n",
    "\n",
    "# Run simulations\n",
    "histories = run_simulations(length, fish_keys, sim_keys)"
   ]
  },
  {
   "cell_type": "code",
   "execution_count": 3,
   "metadata": {},
   "outputs": [
    {
     "name": "stdout",
     "output_type": "stream",
     "text": [
      "(1000, 10, 10000)\n"
     ]
    }
   ],
   "source": [
    "print(histories.shape)"
   ]
  }
 ],
 "metadata": {
  "kernelspec": {
   "display_name": "jaxfish",
   "language": "python",
   "name": "python3"
  },
  "language_info": {
   "codemirror_mode": {
    "name": "ipython",
    "version": 3
   },
   "file_extension": ".py",
   "mimetype": "text/x-python",
   "name": "python",
   "nbconvert_exporter": "python",
   "pygments_lexer": "ipython3",
   "version": "3.13.1"
  }
 },
 "nbformat": 4,
 "nbformat_minor": 2
}
