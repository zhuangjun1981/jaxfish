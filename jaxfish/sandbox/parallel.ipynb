{
 "cells": [
  {
   "cell_type": "code",
   "execution_count": null,
   "metadata": {},
   "outputs": [
    {
     "data": {
      "text/plain": [
       "{CpuDevice(id=0)}"
      ]
     },
     "execution_count": 1,
     "metadata": {},
     "output_type": "execute_result"
    }
   ],
   "source": [
    "import jax\n",
    "import jax.numpy as jnp\n",
    "arr = jnp.arange(32.0).reshape(4, 8)\n",
    "arr.devices()"
   ]
  },
  {
   "cell_type": "code",
   "execution_count": 2,
   "metadata": {},
   "outputs": [
    {
     "data": {
      "text/plain": [
       "SingleDeviceSharding(device=CpuDevice(id=0), memory_kind=unpinned_host)"
      ]
     },
     "execution_count": 2,
     "metadata": {},
     "output_type": "execute_result"
    }
   ],
   "source": [
    "arr.sharding"
   ]
  },
  {
   "cell_type": "code",
   "execution_count": 4,
   "metadata": {},
   "outputs": [
    {
     "data": {
      "text/html": [
       "<pre style=\"white-space:pre;overflow-x:auto;line-height:normal;font-family:Menlo,'DejaVu Sans Mono',consolas,'Courier New',monospace\">┌────────────────────────────────────────────────┐\n",
       "│                                                │\n",
       "│                                                │\n",
       "│                                                │\n",
       "│                                                │\n",
       "│                     CPU <span style=\"color: #008080; text-decoration-color: #008080; font-weight: bold\">0</span>                      │\n",
       "│                                                │\n",
       "│                                                │\n",
       "│                                                │\n",
       "│                                                │\n",
       "└────────────────────────────────────────────────┘\n",
       "</pre>\n"
      ],
      "text/plain": [
       "┌────────────────────────────────────────────────┐\n",
       "│                                                │\n",
       "│                                                │\n",
       "│                                                │\n",
       "│                                                │\n",
       "│                     CPU \u001b[1;36m0\u001b[0m                      │\n",
       "│                                                │\n",
       "│                                                │\n",
       "│                                                │\n",
       "│                                                │\n",
       "└────────────────────────────────────────────────┘\n"
      ]
     },
     "metadata": {},
     "output_type": "display_data"
    }
   ],
   "source": [
    "jax.debug.visualize_array_sharding(arr)"
   ]
  },
  {
   "cell_type": "code",
   "execution_count": 6,
   "metadata": {},
   "outputs": [
    {
     "name": "stdout",
     "output_type": "stream",
     "text": [
      "NamedSharding(mesh=Mesh('x': 1), spec=PartitionSpec('x',), memory_kind=unpinned_host)\n"
     ]
    }
   ],
   "source": [
    "from jax.sharding import PartitionSpec as P\n",
    "mesh = jax.make_mesh((1,), ('x'))\n",
    "sharding = jax.sharding.NamedSharding(mesh, P('x'))\n",
    "print(sharding)"
   ]
  },
  {
   "cell_type": "code",
   "execution_count": 7,
   "metadata": {},
   "outputs": [
    {
     "name": "stdout",
     "output_type": "stream",
     "text": [
      "[[ 0.  1.  2.  3.  4.  5.  6.  7.]\n",
      " [ 8.  9. 10. 11. 12. 13. 14. 15.]\n",
      " [16. 17. 18. 19. 20. 21. 22. 23.]\n",
      " [24. 25. 26. 27. 28. 29. 30. 31.]]\n"
     ]
    },
    {
     "data": {
      "text/html": [
       "<pre style=\"white-space:pre;overflow-x:auto;line-height:normal;font-family:Menlo,'DejaVu Sans Mono',consolas,'Courier New',monospace\">┌────────────────────────────────────────────────┐\n",
       "│                                                │\n",
       "│                                                │\n",
       "│                                                │\n",
       "│                                                │\n",
       "│                     CPU <span style=\"color: #008080; text-decoration-color: #008080; font-weight: bold\">0</span>                      │\n",
       "│                                                │\n",
       "│                                                │\n",
       "│                                                │\n",
       "│                                                │\n",
       "└────────────────────────────────────────────────┘\n",
       "</pre>\n"
      ],
      "text/plain": [
       "┌────────────────────────────────────────────────┐\n",
       "│                                                │\n",
       "│                                                │\n",
       "│                                                │\n",
       "│                                                │\n",
       "│                     CPU \u001b[1;36m0\u001b[0m                      │\n",
       "│                                                │\n",
       "│                                                │\n",
       "│                                                │\n",
       "│                                                │\n",
       "└────────────────────────────────────────────────┘\n"
      ]
     },
     "metadata": {},
     "output_type": "display_data"
    }
   ],
   "source": [
    "arr_sharded = jax.device_put(arr, sharding)\n",
    "\n",
    "print(arr_sharded)\n",
    "jax.debug.visualize_array_sharding(arr_sharded)"
   ]
  }
 ],
 "metadata": {
  "kernelspec": {
   "display_name": "jaxfish",
   "language": "python",
   "name": "python3"
  },
  "language_info": {
   "codemirror_mode": {
    "name": "ipython",
    "version": 3
   },
   "file_extension": ".py",
   "mimetype": "text/x-python",
   "name": "python",
   "nbconvert_exporter": "python",
   "pygments_lexer": "ipython3",
   "version": "3.13.1"
  }
 },
 "nbformat": 4,
 "nbformat_minor": 2
}
