{
 "cells": [
  {
   "cell_type": "code",
   "execution_count": 1,
   "metadata": {},
   "outputs": [],
   "source": [
    "import jax\n",
    "import jax.numpy as jnp"
   ]
  },
  {
   "cell_type": "code",
   "execution_count": 2,
   "metadata": {},
   "outputs": [],
   "source": [
    "fish_position = jnp.array([3, 5])\n",
    "\n",
    "def is_fish_pixel(pos):\n",
    "    return jnp.all(\n",
    "        (pos[0] >= fish_position[0] - 1) & (pos[0] <= fish_position[0] + 1) & (pos[1] >= fish_position[1] - 1) & (pos[1] <= fish_position[1] + 1)\n",
    "    )"
   ]
  },
  {
   "cell_type": "code",
   "execution_count": 3,
   "metadata": {},
   "outputs": [
    {
     "data": {
      "text/plain": [
       "Array(True, dtype=bool)"
      ]
     },
     "execution_count": 3,
     "metadata": {},
     "output_type": "execute_result"
    }
   ],
   "source": [
    "is_fish_pixel(jnp.array([2, 6]))"
   ]
  },
  {
   "cell_type": "code",
   "execution_count": 4,
   "metadata": {},
   "outputs": [
    {
     "name": "stdout",
     "output_type": "stream",
     "text": [
      "[[0. 0. 0. 0. 0.]\n",
      " [0. 1. 0. 0. 0.]\n",
      " [0. 0. 1. 0. 0.]\n",
      " [0. 0. 0. 0. 0.]\n",
      " [0. 0. 0. 0. 0.]]\n"
     ]
    }
   ],
   "source": [
    "aa = jnp.zeros((5, 5))\n",
    "aa = aa.at[(1, 2), (1, 2)].set(1)\n",
    "print(aa)"
   ]
  },
  {
   "cell_type": "code",
   "execution_count": 5,
   "metadata": {},
   "outputs": [
    {
     "name": "stdout",
     "output_type": "stream",
     "text": [
      "[[1. 1. 1. 1. 1. 1.]\n",
      " [1. 1. 1. 1. 1. 1.]\n",
      " [1. 1. 1. 1. 1. 1.]\n",
      " [1. 1. 1. 1. 1. 1.]\n",
      " [1. 1. 1. 1. 1. 1.]\n",
      " [1. 1. 1. 1. 1. 1.]]\n"
     ]
    }
   ],
   "source": [
    "@jax.jit\n",
    "def set_value(arr: jnp.ndarray, pos: jnp.ndarray):\n",
    "    indices = jnp.array([[-1, -1], [-1, 0], [-1, 1],\n",
    "                         [0, -1], [0, 0], [0, 1],\n",
    "                         [1, -1], [1, 0], [1, 1]])\n",
    "    \n",
    "    update_pos = pos[jnp.newaxis, :] + indices\n",
    "    \n",
    "    def update(val, idx):\n",
    "        return val.at[idx[0], idx[1]].set(1)\n",
    "    \n",
    "    return jax.lax.fori_loop(0, 9, lambda i, val: update(val, update_pos[i]), arr)\n",
    "\n",
    "arr = jnp.ones((6, 6))\n",
    "pos = jnp.array([2, 3])\n",
    "\n",
    "arr = set_value(arr, pos)\n",
    "print(arr)"
   ]
  },
  {
   "cell_type": "code",
   "execution_count": 6,
   "metadata": {},
   "outputs": [],
   "source": [
    "@jax.jit\n",
    "def copy(arr: jnp.ndarray):\n",
    "    arr = jnp.array(arr)\n",
    "    return arr\n",
    "\n",
    "arr = jnp.zeros((5, 5))\n",
    "arr = copy(arr)"
   ]
  },
  {
   "cell_type": "code",
   "execution_count": 7,
   "metadata": {},
   "outputs": [
    {
     "name": "stdout",
     "output_type": "stream",
     "text": [
      "[[3 4]\n",
      " [1 4]\n",
      " [1 0]]\n"
     ]
    }
   ],
   "source": [
    "# from functools import partial\n",
    "\n",
    "# @partial(jax.jit, static_argnames=\"n\")\n",
    "def get_position(arr: jnp.ndarray, key, n):\n",
    "    positions = jax.random.choice(key, jnp.array(jnp.where(arr == 0)).T, (n,)) \n",
    "    return positions\n",
    "\n",
    "arr = jnp.zeros((5, 5))\n",
    "arr = arr.at[1, 1].set(1)\n",
    "arr = arr.at[2, 2].set(1)\n",
    "seed = 0\n",
    "key = jax.random.key(seed)\n",
    "pos = get_position(arr, key, 3)\n",
    "print(pos)"
   ]
  },
  {
   "cell_type": "code",
   "execution_count": 8,
   "metadata": {},
   "outputs": [
    {
     "name": "stdout",
     "output_type": "stream",
     "text": [
      "[[0. 0. 0. 0. 0.]\n",
      " [0. 1. 0. 0. 0.]\n",
      " [0. 0. 1. 0. 0.]\n",
      " [0. 0. 0. 1. 0.]\n",
      " [0. 0. 0. 0. 0.]]\n",
      "key=[ 0 19]\n"
     ]
    },
    {
     "data": {
      "text/plain": [
       "Array([0, 4], dtype=int32)"
      ]
     },
     "execution_count": 8,
     "metadata": {},
     "output_type": "execute_result"
    }
   ],
   "source": [
    "@jax.jit\n",
    "def pick_one_zero(arr, key):\n",
    "\n",
    "    # jax.debug.print(\"key={key}\", key=key)\n",
    "\n",
    "    # Get array shape\n",
    "    height, width = arr.shape\n",
    "    \n",
    "    # Create array of all positions\n",
    "    rows = jnp.arange(height)[:, None]\n",
    "    cols = jnp.arange(width)[None, :]\n",
    "    all_rows = jnp.broadcast_to(rows, (height, width)).ravel()\n",
    "    all_cols = jnp.broadcast_to(cols, (height, width)).ravel()\n",
    "    all_positions = jnp.stack([all_rows, all_cols], axis=1)\n",
    "\n",
    "    all_positions = all_positions[jax.random.permutation(key, all_positions.shape[0])]\n",
    "\n",
    "    init_val = 0\n",
    "    cond_fun = lambda i: arr[*all_positions[i] ] != 0\n",
    "    body_fun = lambda i: i + 1\n",
    "    zero_idx = jax.lax.while_loop(cond_fun=cond_fun, body_fun=body_fun, init_val=init_val)\n",
    "    zero_position = all_positions[zero_idx]\n",
    "\n",
    "    # jax.debug.print(\"{zero_position}\", zero_position=zero_position)\n",
    "    return zero_position\n",
    "\n",
    "\n",
    "seed = 19\n",
    "key = jax.random.key(seed)\n",
    "\n",
    "food_map = jnp.zeros((5, 5))\n",
    "food_positions = jnp.array([[1, 1], [2, 2], [3, 3]])\n",
    "food_map = food_map.at[food_positions.T[0], food_positions.T[1]].set(1)\n",
    "print(food_map)\n",
    "\n",
    "pick_one_zero(food_map, key)"
   ]
  },
  {
   "cell_type": "code",
   "execution_count": 10,
   "metadata": {},
   "outputs": [
    {
     "name": "stdout",
     "output_type": "stream",
     "text": [
      "[[0. 0. 0. 0. 0.]\n",
      " [0. 1. 0. 0. 0.]\n",
      " [0. 0. 1. 0. 0.]\n",
      " [0. 0. 0. 1. 0.]\n",
      " [0. 0. 0. 0. 0.]]\n",
      "key=[2718843009 1272950319]\n",
      "key=[4104543539 3483300570]\n",
      "[[1 0]\n",
      " [2 2]\n",
      " [4 0]]\n"
     ]
    }
   ],
   "source": [
    "\n",
    "# @jax.jit\n",
    "def update(food_map, food_positions, is_eaten, key):\n",
    "\n",
    "    food_num = len(is_eaten)\n",
    "    \n",
    "    def update_one_eaten_food(operand):\n",
    "\n",
    "        food_map, food_positions, key, i = operand\n",
    "        \n",
    "        pos = pick_one_zero(arr=food_map, key=key)\n",
    "        food_positions = food_positions.at[i].set(pos)\n",
    "        food_map = food_map.at[*pos].set(1)\n",
    "\n",
    "        return food_map, food_positions\n",
    "    \n",
    "    def update_step(carry, i):\n",
    "\n",
    "        food_map, food_positions, is_eaten, key = carry\n",
    "\n",
    "        key, subkey = jax.random.split(key)\n",
    "\n",
    "        food_map, food_positions = jax.lax.cond(\n",
    "            is_eaten[i],\n",
    "            update_one_eaten_food,\n",
    "            lambda x: (x[0], x[1]),\n",
    "            operand=(food_map, food_positions, subkey, i)\n",
    "        )\n",
    "\n",
    "        return (food_map, food_positions, is_eaten, key), None\n",
    "    \n",
    "    (_, food_positions, _, _), _ = jax.lax.scan(update_step, (food_map, food_positions, is_eaten, key), jnp.arange(food_num))\n",
    "\n",
    "    return food_positions\n",
    "\n",
    "\n",
    "seed = 0\n",
    "key = jax.random.key(seed)\n",
    "\n",
    "food_map = jnp.zeros((5, 5))\n",
    "food_positions = jnp.array([[1, 1], [2, 2], [3, 3]])\n",
    "food_map = food_map.at[food_positions.T[0], food_positions.T[1]].set(1)\n",
    "is_eaten = jnp.array([True, False, True])\n",
    "\n",
    "print(food_map)\n",
    "\n",
    "food_positions = update_food_positions(\n",
    "    food_map=food_map, \n",
    "    food_positions=food_positions, \n",
    "    is_eaten=is_eaten,\n",
    "    key=key,\n",
    ")\n",
    "\n",
    "print(food_positions)"
   ]
  },
  {
   "cell_type": "code",
   "execution_count": 11,
   "metadata": {},
   "outputs": [
    {
     "name": "stdout",
     "output_type": "stream",
     "text": [
      "(3, [4, 5])\n"
     ]
    }
   ],
   "source": [
    "a = lambda x: (x[0], x[1])\n",
    "\n",
    "aa = (3, [4, 5], {6})\n",
    "\n",
    "bb = a(aa)\n",
    "print(bb)"
   ]
  }
 ],
 "metadata": {
  "kernelspec": {
   "display_name": "jaxfish",
   "language": "python",
   "name": "python3"
  },
  "language_info": {
   "codemirror_mode": {
    "name": "ipython",
    "version": 3
   },
   "file_extension": ".py",
   "mimetype": "text/x-python",
   "name": "python",
   "nbconvert_exporter": "python",
   "pygments_lexer": "ipython3",
   "version": "3.13.1"
  }
 },
 "nbformat": 4,
 "nbformat_minor": 2
}
