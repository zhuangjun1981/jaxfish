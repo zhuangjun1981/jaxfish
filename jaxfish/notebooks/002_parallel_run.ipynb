{
 "cells": [
  {
   "cell_type": "code",
   "execution_count": 1,
   "metadata": {},
   "outputs": [],
   "source": [
    "import os\n",
    "\n",
    "# simulate multicore gpu on cpu\n",
    "os.environ[\"XLA_FLAGS\"] = \"--xla_force_host_platform_device_count=8\""
   ]
  },
  {
   "cell_type": "code",
   "execution_count": 2,
   "metadata": {},
   "outputs": [],
   "source": [
    "import jax\n",
    "import jax.numpy as jnp\n",
    "from jaxfish.data_classes import freeze, Fish, Simulation, Terrain\n",
    "from jaxfish.defaults import BRAIN_EIGHT_EYE_NO_HIDDEN\n",
    "from jaxfish.simulation import run_simulation\n",
    "\n",
    "\n",
    "seeds = jnp.arange(8)\n",
    "\n",
    "terrain_config = freeze(Terrain())\n",
    "\n",
    "fish_config = freeze(Fish())\n",
    "\n",
    "simulation_config = Simulation(simulation_ind=0)\n",
    "simulation_config.psp_waveform_length = 30  # reduce memory use\n",
    "simulation_config.max_simulation_length = 1000  # reduce memory use\n",
    "simulation_config = freeze(simulation_config)\n",
    "\n",
    "brain_config = freeze(BRAIN_EIGHT_EYE_NO_HIDDEN)"
   ]
  },
  {
   "cell_type": "code",
   "execution_count": 6,
   "metadata": {},
   "outputs": [],
   "source": [
    "run_simulation_parallel = jax.pmap(\n",
    "    run_simulation, \n",
    "    in_axes=(0, None, None, None, None), \n",
    "    out_axes=0,\n",
    "    static_broadcasted_argnums=(1, 2, 3, 4),\n",
    ")\n",
    "\n",
    "simulation_resulsts = run_simulation_parallel(\n",
    "    seeds, terrain_config, simulation_config, fish_config, brain_config, \n",
    ")"
   ]
  },
  {
   "cell_type": "code",
   "execution_count": 9,
   "metadata": {},
   "outputs": [
    {
     "name": "stdout",
     "output_type": "stream",
     "text": [
      "\n",
      "fish_position_history[0:10]=Array([[5, 2],\n",
      "       [5, 2],\n",
      "       [5, 3],\n",
      "       [5, 2],\n",
      "       [5, 3],\n",
      "       [5, 2],\n",
      "       [5, 3],\n",
      "       [5, 2],\n",
      "       [5, 3],\n",
      "       [5, 2]], dtype=int32)\n",
      "\n",
      "health_history[0:10]=Array([10.       ,  9.99     ,  9.978999 ,  9.9679985,  9.956998 ,\n",
      "        9.945997 ,  9.934997 ,  9.923996 ,  9.912995 ,  9.901995 ],      dtype=float32)\n",
      "\n",
      "firing_history[0:10]=Array([[0, 1, 0, ..., 0, 0, 0],\n",
      "       [0, 0, 0, ..., 0, 0, 0],\n",
      "       [0, 0, 0, ..., 0, 0, 0],\n",
      "       ...,\n",
      "       [0, 0, 0, ..., 0, 0, 0],\n",
      "       [0, 1, 0, ..., 0, 0, 0],\n",
      "       [0, 0, 0, ..., 0, 0, 0]], dtype=uint8)\n"
     ]
    }
   ],
   "source": [
    "simulation_result_0 = [r[0] for r in simulation_resulsts]\n",
    "\n",
    "(\n",
    "    _,\n",
    "    _,\n",
    "    _,\n",
    "    terrain_map,\n",
    "    food_positions_history,\n",
    "    fish_position_history,\n",
    "    health_history,\n",
    "    firing_history,\n",
    "    _,\n",
    "    psp_history,\n",
    ") = simulation_result_0\n",
    "\n",
    "print(f\"\\n{fish_position_history[0:10]=}\")\n",
    "print(f\"\\n{health_history[0:10]=}\")\n",
    "print(f\"\\n{firing_history[0:10]=}\")"
   ]
  }
 ],
 "metadata": {
  "kernelspec": {
   "display_name": "jaxfish",
   "language": "python",
   "name": "python3"
  },
  "language_info": {
   "codemirror_mode": {
    "name": "ipython",
    "version": 3
   },
   "file_extension": ".py",
   "mimetype": "text/x-python",
   "name": "python",
   "nbconvert_exporter": "python",
   "pygments_lexer": "ipython3",
   "version": "3.13.1"
  }
 },
 "nbformat": 4,
 "nbformat_minor": 2
}
