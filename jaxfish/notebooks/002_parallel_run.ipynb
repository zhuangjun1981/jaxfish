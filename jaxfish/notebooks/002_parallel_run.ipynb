{
 "cells": [
  {
   "cell_type": "code",
   "execution_count": 1,
   "metadata": {},
   "outputs": [],
   "source": [
    "import os\n",
    "\n",
    "# simulate multicore gpu on cpu\n",
    "os.environ[\"XLA_FLAGS\"] = \"--xla_force_host_platform_device_count=8\""
   ]
  },
  {
   "cell_type": "code",
   "execution_count": 2,
   "metadata": {},
   "outputs": [],
   "source": [
    "import jax\n",
    "import jax.numpy as jnp\n",
    "from jaxfish.data_classes import freeze, Fish, Simulation, Terrain\n",
    "from jaxfish.defaults import BRAIN_EIGHT_EYE_NO_HIDDEN\n",
    "from jaxfish.simulation import run_simulation\n",
    "from jaxfish.visulization import get_map_rgb\n",
    "import matplotlib.pyplot as plt\n",
    "from ipywidgets import interact\n",
    "%matplotlib inline\n",
    "\n",
    "\n",
    "seeds = jnp.arange(8)\n",
    "\n",
    "terrain_config = freeze(Terrain())\n",
    "\n",
    "fish_config = freeze(Fish())\n",
    "\n",
    "simulation_config = Simulation(simulation_ind=0)\n",
    "simulation_config.psp_waveform_length = 30  # reduce memory use\n",
    "simulation_config.max_simulation_length = 1000  # reduce memory use\n",
    "simulation_config = freeze(simulation_config)\n",
    "\n",
    "brain_config = freeze(BRAIN_EIGHT_EYE_NO_HIDDEN)"
   ]
  },
  {
   "cell_type": "code",
   "execution_count": 3,
   "metadata": {},
   "outputs": [],
   "source": [
    "run_simulation_parallel = jax.pmap(\n",
    "    run_simulation, \n",
    "    in_axes=(0, None, None, None, None), \n",
    "    out_axes=0,\n",
    "    static_broadcasted_argnums=(1, 2, 3, 4),\n",
    ")\n",
    "\n",
    "simulation_resulsts = run_simulation_parallel(\n",
    "    seeds, terrain_config, simulation_config, fish_config, brain_config, \n",
    ")"
   ]
  },
  {
   "cell_type": "code",
   "execution_count": 4,
   "metadata": {},
   "outputs": [
    {
     "data": {
      "application/vnd.jupyter.widget-view+json": {
       "model_id": "bb1d1cd5b6ee4d1092e2fd11bdf5a5bd",
       "version_major": 2,
       "version_minor": 0
      },
      "text/plain": [
       "interactive(children=(IntSlider(value=0, description='t', max=999), Output()), _dom_classes=('widget-interact'…"
      ]
     },
     "metadata": {},
     "output_type": "display_data"
    },
    {
     "data": {
      "text/plain": [
       "<function __main__.update_plot(t=0)>"
      ]
     },
     "execution_count": 4,
     "metadata": {},
     "output_type": "execute_result"
    }
   ],
   "source": [
    "sim_num = 0\n",
    "simulation_result = [v[sim_num] for v in simulation_resulsts]\n",
    "\n",
    "f, ax = plt.subplots()\n",
    "\n",
    "def update_plot(t=0):\n",
    "    ax.clear()  # Clear the previous plot\n",
    "    health_history = simulation_result[6]\n",
    "    map_rgb = get_map_rgb(t, simulation_result)\n",
    "    ax.imshow(map_rgb)\n",
    "    ax.set_title(f\"sim_num: {sim_num}, t: {t+1:3d}/{len(health_history)}, health: {health_history[t]:5.2f}\")\n",
    "    ax.set_axis_off()\n",
    "    plt.close(f)  # Close the figure to prevent display\n",
    "    return f  # Return the figure object\n",
    "\n",
    "interact(update_plot, t=(0, len(simulation_result[6]) - 1))"
   ]
  },
  {
   "cell_type": "code",
   "execution_count": 5,
   "metadata": {},
   "outputs": [
    {
     "data": {
      "application/vnd.jupyter.widget-view+json": {
       "model_id": "261985c2bfea44fcb6a3d3451a5f2e33",
       "version_major": 2,
       "version_minor": 0
      },
      "text/plain": [
       "interactive(children=(IntSlider(value=0, description='t', max=999), Output()), _dom_classes=('widget-interact'…"
      ]
     },
     "metadata": {},
     "output_type": "display_data"
    },
    {
     "data": {
      "text/plain": [
       "<function __main__.update_plot(t=0)>"
      ]
     },
     "execution_count": 5,
     "metadata": {},
     "output_type": "execute_result"
    }
   ],
   "source": [
    "sim_num = 5\n",
    "simulation_result = [v[sim_num] for v in simulation_resulsts]\n",
    "\n",
    "f, ax = plt.subplots()\n",
    "\n",
    "def update_plot(t=0):\n",
    "    ax.clear()  # Clear the previous plot\n",
    "    health_history = simulation_result[6]\n",
    "    map_rgb = get_map_rgb(t, simulation_result)\n",
    "    ax.imshow(map_rgb)\n",
    "    ax.set_title(f\"sim_num: {sim_num}, t: {t+1:3d}/{len(health_history)}, health: {health_history[t]:5.2f}\")\n",
    "    ax.set_axis_off()\n",
    "    plt.close(f)  # Close the figure to prevent display\n",
    "    return f  # Return the figure object\n",
    "\n",
    "interact(update_plot, t=(0, len(simulation_result[6]) - 1))"
   ]
  }
 ],
 "metadata": {
  "kernelspec": {
   "display_name": "jaxfish",
   "language": "python",
   "name": "python3"
  },
  "language_info": {
   "codemirror_mode": {
    "name": "ipython",
    "version": 3
   },
   "file_extension": ".py",
   "mimetype": "text/x-python",
   "name": "python",
   "nbconvert_exporter": "python",
   "pygments_lexer": "ipython3",
   "version": "3.13.1"
  }
 },
 "nbformat": 4,
 "nbformat_minor": 2
}
