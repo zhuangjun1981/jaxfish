{
 "cells": [
  {
   "cell_type": "code",
   "execution_count": 1,
   "metadata": {},
   "outputs": [],
   "source": [
    "from jaxfish.data_classes import freeze, Fish, Simulation, Terrain\n",
    "from jaxfish.defaults import BRAIN_EIGHT_EYE_NO_HIDDEN\n",
    "from jaxfish.simulation import run_simulation\n",
    "\n",
    "\n",
    "seed = 42\n",
    "\n",
    "terrain_config = freeze(Terrain())\n",
    "\n",
    "fish_config = freeze(Fish())\n",
    "\n",
    "simulation_config = Simulation(simulation_ind=0)\n",
    "simulation_config.psp_waveform_length = 30  # reduce memory use\n",
    "simulation_config.max_simulation_length = 1000  # reduce memory use\n",
    "simulation_config = freeze(simulation_config)\n",
    "\n",
    "brain_config = freeze(BRAIN_EIGHT_EYE_NO_HIDDEN)"
   ]
  },
  {
   "cell_type": "code",
   "execution_count": 2,
   "metadata": {},
   "outputs": [],
   "source": [
    "simulation_result = run_simulation(\n",
    "    seed=seed,\n",
    "    terrain=terrain_config,\n",
    "    fish=fish_config,\n",
    "    brain=brain_config,\n",
    "    simulation=simulation_config,\n",
    ")"
   ]
  },
  {
   "cell_type": "code",
   "execution_count": 3,
   "metadata": {},
   "outputs": [
    {
     "name": "stdout",
     "output_type": "stream",
     "text": [
      "\n",
      "fish_position_history[0:10]=Array([[2, 2],\n",
      "       [2, 2],\n",
      "       [2, 3],\n",
      "       [3, 2],\n",
      "       [2, 2],\n",
      "       [3, 3],\n",
      "       [3, 2],\n",
      "       [3, 3],\n",
      "       [3, 2],\n",
      "       [3, 3]], dtype=int32)\n",
      "\n",
      "health_history[0:10]=Array([10.      ,  9.99    ,  9.978999,  9.966999, 29.956   , 29.943998,\n",
      "       29.932999, 29.921999, 29.911   , 29.9     ], dtype=float32)\n",
      "\n",
      "firing_history[0:10]=Array([[0, 0, 1, ..., 0, 1, 0],\n",
      "       [0, 0, 0, ..., 0, 0, 0],\n",
      "       [0, 1, 0, ..., 1, 0, 0],\n",
      "       ...,\n",
      "       [0, 0, 0, ..., 0, 0, 0],\n",
      "       [0, 0, 1, ..., 1, 0, 0],\n",
      "       [0, 0, 1, ..., 0, 0, 0]], dtype=uint8)\n"
     ]
    }
   ],
   "source": [
    "(\n",
    "    _,\n",
    "    _,\n",
    "    _,\n",
    "    terrain_map,\n",
    "    food_positions_history,\n",
    "    fish_position_history,\n",
    "    health_history,\n",
    "    firing_history,\n",
    "    _,\n",
    "    psp_history,\n",
    ") = simulation_result\n",
    "\n",
    "print(f\"\\n{fish_position_history[0:10]=}\")\n",
    "print(f\"\\n{health_history[0:10]=}\")\n",
    "print(f\"\\n{firing_history[0:10]=}\")\n",
    "# print(f\"\\n{psp_history=}\")"
   ]
  }
 ],
 "metadata": {
  "kernelspec": {
   "display_name": "jaxfish",
   "language": "python",
   "name": "python3"
  },
  "language_info": {
   "codemirror_mode": {
    "name": "ipython",
    "version": 3
   },
   "file_extension": ".py",
   "mimetype": "text/x-python",
   "name": "python",
   "nbconvert_exporter": "python",
   "pygments_lexer": "ipython3",
   "version": "3.13.1"
  }
 },
 "nbformat": 4,
 "nbformat_minor": 2
}
